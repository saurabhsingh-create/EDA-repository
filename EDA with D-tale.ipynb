{
 "cells": [
  {
   "cell_type": "code",
   "execution_count": 1,
   "metadata": {},
   "outputs": [
    {
     "name": "stdout",
     "output_type": "stream",
     "text": [
      "Collecting dtale\n",
      "  Downloading dtale-1.18.2-py2.py3-none-any.whl (7.7 MB)\n",
      "Collecting dash-colorscales\n",
      "  Downloading dash_colorscales-0.0.4.tar.gz (62 kB)\n",
      "Requirement already satisfied: requests in c:\\users\\saura\\anaconda3\\lib\\site-packages (from dtale) (2.22.0)\n",
      "Requirement already satisfied: scipy in c:\\users\\saura\\anaconda3\\lib\\site-packages (from dtale) (1.4.1)\n",
      "Collecting lz4; python_version > \"3.0\"\n",
      "  Downloading lz4-3.1.0-cp37-cp37m-win_amd64.whl (162 kB)\n",
      "Requirement already satisfied: pandas in c:\\users\\saura\\anaconda3\\lib\\site-packages (from dtale) (1.0.4)\n",
      "Collecting dash>=1.5.0\n",
      "  Downloading dash-1.16.3.tar.gz (72 kB)\n",
      "Collecting Flask-Compress\n",
      "  Downloading Flask-Compress-1.7.0.tar.gz (9.3 kB)\n",
      "Collecting xarray\n",
      "  Downloading xarray-0.16.1-py3-none-any.whl (720 kB)\n",
      "Collecting strsimpy\n",
      "  Downloading strsimpy-0.1.9-py3-none-any.whl (45 kB)\n",
      "Collecting dash-bootstrap-components; python_version > \"3.0\"\n",
      "  Downloading dash_bootstrap_components-0.10.7-py2.py3-none-any.whl (185 kB)\n",
      "Collecting dash-daq\n",
      "  Downloading dash_daq-0.5.0.tar.gz (642 kB)\n",
      "Requirement already satisfied: six in c:\\users\\saura\\anaconda3\\lib\\site-packages (from dtale) (1.14.0)\n",
      "Collecting squarify\n",
      "  Downloading squarify-0.4.3-py3-none-any.whl (4.3 kB)\n",
      "Requirement already satisfied: statsmodels in c:\\users\\saura\\anaconda3\\lib\\site-packages (from dtale) (0.11.0)\n",
      "Requirement already satisfied: scikit-learn>='0.21.0 in c:\\users\\saura\\anaconda3\\lib\\site-packages (from dtale) (0.22.1)\n",
      "Requirement already satisfied: itsdangerous in c:\\users\\saura\\anaconda3\\lib\\site-packages (from dtale) (1.1.0)\n",
      "Requirement already satisfied: future>=0.14.0 in c:\\users\\saura\\anaconda3\\lib\\site-packages (from dtale) (0.18.2)\n",
      "Requirement already satisfied: Flask>=1.0 in c:\\users\\saura\\anaconda3\\lib\\site-packages (from dtale) (1.1.1)\n",
      "Collecting flask-ngrok; python_version > \"3.0\"\n",
      "  Downloading flask_ngrok-0.0.25-py3-none-any.whl (3.1 kB)\n",
      "Requirement already satisfied: chardet<3.1.0,>=3.0.2 in c:\\users\\saura\\anaconda3\\lib\\site-packages (from requests->dtale) (3.0.4)\n",
      "Requirement already satisfied: certifi>=2017.4.17 in c:\\users\\saura\\anaconda3\\lib\\site-packages (from requests->dtale) (2019.11.28)\n",
      "Requirement already satisfied: idna<2.9,>=2.5 in c:\\users\\saura\\anaconda3\\lib\\site-packages (from requests->dtale) (2.8)\n",
      "Requirement already satisfied: urllib3!=1.25.0,!=1.25.1,<1.26,>=1.21.1 in c:\\users\\saura\\anaconda3\\lib\\site-packages (from requests->dtale) (1.25.8)\n",
      "Requirement already satisfied: numpy>=1.13.3 in c:\\users\\saura\\anaconda3\\lib\\site-packages (from scipy->dtale) (1.18.1)\n",
      "Requirement already satisfied: python-dateutil>=2.6.1 in c:\\users\\saura\\anaconda3\\lib\\site-packages (from pandas->dtale) (2.8.1)\n",
      "Requirement already satisfied: pytz>=2017.2 in c:\\users\\saura\\anaconda3\\lib\\site-packages (from pandas->dtale) (2019.3)\n",
      "Requirement already satisfied: plotly in c:\\users\\saura\\anaconda3\\lib\\site-packages (from dash>=1.5.0->dtale) (4.11.0)\n",
      "Collecting dash_renderer==1.8.2\n",
      "  Downloading dash_renderer-1.8.2.tar.gz (1.0 MB)\n",
      "Collecting dash-core-components==1.12.1\n",
      "  Downloading dash_core_components-1.12.1.tar.gz (3.4 MB)\n",
      "Collecting dash-html-components==1.1.1\n",
      "  Downloading dash_html_components-1.1.1.tar.gz (188 kB)\n",
      "Collecting dash-table==4.10.1\n",
      "  Downloading dash_table-4.10.1.tar.gz (1.8 MB)\n",
      "Collecting brotli\n",
      "  Downloading Brotli-1.0.9-cp37-cp37m-win_amd64.whl (365 kB)\n",
      "Requirement already satisfied: setuptools>=38.4 in c:\\users\\saura\\anaconda3\\lib\\site-packages (from xarray->dtale) (45.2.0.post20200210)\n",
      "Requirement already satisfied: patsy>=0.5 in c:\\users\\saura\\anaconda3\\lib\\site-packages (from statsmodels->dtale) (0.5.1)\n",
      "Requirement already satisfied: joblib>=0.11 in c:\\users\\saura\\anaconda3\\lib\\site-packages (from scikit-learn>='0.21.0->dtale) (0.14.1)\n",
      "Requirement already satisfied: Werkzeug>=0.15 in c:\\users\\saura\\anaconda3\\lib\\site-packages (from Flask>=1.0->dtale) (1.0.0)\n",
      "Requirement already satisfied: Jinja2>=2.10.1 in c:\\users\\saura\\anaconda3\\lib\\site-packages (from Flask>=1.0->dtale) (2.11.1)\n",
      "Requirement already satisfied: click>=5.1 in c:\\users\\saura\\anaconda3\\lib\\site-packages (from Flask>=1.0->dtale) (7.0)\n",
      "Requirement already satisfied: retrying>=1.3.3 in c:\\users\\saura\\anaconda3\\lib\\site-packages (from plotly->dash>=1.5.0->dtale) (1.3.3)\n",
      "Requirement already satisfied: MarkupSafe>=0.23 in c:\\users\\saura\\anaconda3\\lib\\site-packages (from Jinja2>=2.10.1->Flask>=1.0->dtale) (1.1.1)\n",
      "Building wheels for collected packages: dash-colorscales, dash, Flask-Compress, dash-daq, dash-renderer, dash-core-components, dash-html-components, dash-table\n",
      "  Building wheel for dash-colorscales (setup.py): started\n",
      "  Building wheel for dash-colorscales (setup.py): finished with status 'done'\n",
      "  Created wheel for dash-colorscales: filename=dash_colorscales-0.0.4-py3-none-any.whl size=62603 sha256=baab2034fd5dbcb19601983061fe76a4c81cd7b25f52c0969d3458cd053d93fa\n",
      "  Stored in directory: c:\\users\\saura\\appdata\\local\\pip\\cache\\wheels\\2f\\22\\7e\\183ba2af565e3eb955021fbb4fe8fe4a6b1ed8ae3e5c03236a\n",
      "  Building wheel for dash (setup.py): started\n",
      "  Building wheel for dash (setup.py): finished with status 'done'\n",
      "  Created wheel for dash: filename=dash-1.16.3-py3-none-any.whl size=82492 sha256=6cfaed0ef6f5ecd0ac05e514814341acd5ab1e623cc16045d1b5d9fa6c48f344\n",
      "  Stored in directory: c:\\users\\saura\\appdata\\local\\pip\\cache\\wheels\\77\\ac\\ab\\4e0700aaae08ce0d52b5ab1122f649d0adfcf68d2fad6719a7\n",
      "  Building wheel for Flask-Compress (setup.py): started\n",
      "  Building wheel for Flask-Compress (setup.py): finished with status 'done'\n",
      "  Created wheel for Flask-Compress: filename=Flask_Compress-1.7.0-py3-none-any.whl size=6837 sha256=76ad270d622ab98124b5ce7939c8c02e771b10f6ef102652e088da06fb63397d\n",
      "  Stored in directory: c:\\users\\saura\\appdata\\local\\pip\\cache\\wheels\\be\\96\\89\\a2cc475456cabcc3f099ceb5d7b09608436e69a86fde38447d\n",
      "  Building wheel for dash-daq (setup.py): started\n",
      "  Building wheel for dash-daq (setup.py): finished with status 'done'\n",
      "  Created wheel for dash-daq: filename=dash_daq-0.5.0-py3-none-any.whl size=669707 sha256=effe5f8000d8e9e558d18828a5c0bbf6b26c3fa7a3f421917b72f84965a71fb0\n",
      "  Stored in directory: c:\\users\\saura\\appdata\\local\\pip\\cache\\wheels\\fe\\54\\53\\a8d448db5592874db4313240571ca2c069e55f6a6b29bf5847\n",
      "  Building wheel for dash-renderer (setup.py): started\n",
      "  Building wheel for dash-renderer (setup.py): finished with status 'done'\n",
      "  Created wheel for dash-renderer: filename=dash_renderer-1.8.2-py3-none-any.whl size=1013932 sha256=78e8a6e004c71f694e6deb530b80aa8948ae6cac5e60d4fa506c66a07fe69590\n",
      "  Stored in directory: c:\\users\\saura\\appdata\\local\\pip\\cache\\wheels\\e8\\96\\bf\\d7cf0c7aa0bef3033c4567ea15c415b9343ba8a3bb55fe29e9\n",
      "  Building wheel for dash-core-components (setup.py): started\n",
      "  Building wheel for dash-core-components (setup.py): finished with status 'done'\n",
      "  Created wheel for dash-core-components: filename=dash_core_components-1.12.1-py3-none-any.whl size=3475402 sha256=f41e50e4e52e317817960ccf7e419929e0ae88e26b2851f9ef7a3f3439c2a32b\n",
      "  Stored in directory: c:\\users\\saura\\appdata\\local\\pip\\cache\\wheels\\91\\6d\\0d\\3af7a133b9f88b3408c0513d581553b93317fde75065a2f63c\n",
      "  Building wheel for dash-html-components (setup.py): started\n",
      "  Building wheel for dash-html-components (setup.py): finished with status 'done'\n",
      "  Created wheel for dash-html-components: filename=dash_html_components-1.1.1-py3-none-any.whl size=427900 sha256=44e139f8145df745e877ff0d9ba4956fa96c08f67dd513018b2152d38097c857\n",
      "  Stored in directory: c:\\users\\saura\\appdata\\local\\pip\\cache\\wheels\\c8\\a8\\46\\2900a0845e7992a317eca9ba18e55d47c03ccc4e80d6a37e73\n",
      "  Building wheel for dash-table (setup.py): started\n",
      "  Building wheel for dash-table (setup.py): finished with status 'done'\n",
      "  Created wheel for dash-table: filename=dash_table-4.10.1-py3-none-any.whl size=1825000 sha256=a240b3209d4eef1609df0dd5f4e736aa76d7777768bd47c6e6594e5be2d1fe88\n",
      "  Stored in directory: c:\\users\\saura\\appdata\\local\\pip\\cache\\wheels\\9b\\89\\a5\\cfba33913363625344b4b3b63a51d958038c8e7b83139e702c\n",
      "Successfully built dash-colorscales dash Flask-Compress dash-daq dash-renderer dash-core-components dash-html-components dash-table\n",
      "Installing collected packages: dash-colorscales, lz4, brotli, Flask-Compress, dash-renderer, dash-core-components, dash-html-components, dash-table, dash, xarray, strsimpy, dash-bootstrap-components, dash-daq, squarify, flask-ngrok, dtale\n",
      "Successfully installed Flask-Compress-1.7.0 brotli-1.0.9 dash-1.16.3 dash-bootstrap-components-0.10.7 dash-colorscales-0.0.4 dash-core-components-1.12.1 dash-daq-0.5.0 dash-html-components-1.1.1 dash-renderer-1.8.2 dash-table-4.10.1 dtale-1.18.2 flask-ngrok-0.0.25 lz4-3.1.0 squarify-0.4.3 strsimpy-0.1.9 xarray-0.16.1\n"
     ]
    }
   ],
   "source": [
    "#EDA with D-tale\n",
    "!pip install dtale"
   ]
  },
  {
   "cell_type": "code",
   "execution_count": 2,
   "metadata": {},
   "outputs": [],
   "source": [
    "import seaborn as sns"
   ]
  },
  {
   "cell_type": "code",
   "execution_count": 3,
   "metadata": {},
   "outputs": [
    {
     "name": "stderr",
     "output_type": "stream",
     "text": [
      "C:\\Users\\saura\\anaconda3\\lib\\site-packages\\seaborn\\utils.py:384: UserWarning: No parser was explicitly specified, so I'm using the best available HTML parser for this system (\"lxml\"). This usually isn't a problem, but if you run this code on another system, or in a different virtual environment, it may use a different parser and behave differently.\n",
      "\n",
      "The code that caused this warning is on line 384 of the file C:\\Users\\saura\\anaconda3\\lib\\site-packages\\seaborn\\utils.py. To get rid of this warning, pass the additional argument 'features=\"lxml\"' to the BeautifulSoup constructor.\n",
      "\n",
      "  gh_list = BeautifulSoup(http)\n"
     ]
    },
    {
     "data": {
      "text/plain": [
       "['anagrams',\n",
       " 'anscombe',\n",
       " 'attention',\n",
       " 'brain_networks',\n",
       " 'car_crashes',\n",
       " 'diamonds',\n",
       " 'dots',\n",
       " 'exercise',\n",
       " 'flights',\n",
       " 'fmri',\n",
       " 'gammas',\n",
       " 'geyser',\n",
       " 'iris',\n",
       " 'mpg',\n",
       " 'penguins',\n",
       " 'planets',\n",
       " 'tips',\n",
       " 'titanic']"
      ]
     },
     "execution_count": 3,
     "metadata": {},
     "output_type": "execute_result"
    }
   ],
   "source": [
    "sns.get_dataset_names()"
   ]
  },
  {
   "cell_type": "code",
   "execution_count": 4,
   "metadata": {},
   "outputs": [
    {
     "data": {
      "text/html": [
       "<div>\n",
       "<style scoped>\n",
       "    .dataframe tbody tr th:only-of-type {\n",
       "        vertical-align: middle;\n",
       "    }\n",
       "\n",
       "    .dataframe tbody tr th {\n",
       "        vertical-align: top;\n",
       "    }\n",
       "\n",
       "    .dataframe thead th {\n",
       "        text-align: right;\n",
       "    }\n",
       "</style>\n",
       "<table border=\"1\" class=\"dataframe\">\n",
       "  <thead>\n",
       "    <tr style=\"text-align: right;\">\n",
       "      <th></th>\n",
       "      <th>method</th>\n",
       "      <th>number</th>\n",
       "      <th>orbital_period</th>\n",
       "      <th>mass</th>\n",
       "      <th>distance</th>\n",
       "      <th>year</th>\n",
       "    </tr>\n",
       "  </thead>\n",
       "  <tbody>\n",
       "    <tr>\n",
       "      <th>0</th>\n",
       "      <td>Radial Velocity</td>\n",
       "      <td>1</td>\n",
       "      <td>269.300</td>\n",
       "      <td>7.10</td>\n",
       "      <td>77.40</td>\n",
       "      <td>2006</td>\n",
       "    </tr>\n",
       "    <tr>\n",
       "      <th>1</th>\n",
       "      <td>Radial Velocity</td>\n",
       "      <td>1</td>\n",
       "      <td>874.774</td>\n",
       "      <td>2.21</td>\n",
       "      <td>56.95</td>\n",
       "      <td>2008</td>\n",
       "    </tr>\n",
       "    <tr>\n",
       "      <th>2</th>\n",
       "      <td>Radial Velocity</td>\n",
       "      <td>1</td>\n",
       "      <td>763.000</td>\n",
       "      <td>2.60</td>\n",
       "      <td>19.84</td>\n",
       "      <td>2011</td>\n",
       "    </tr>\n",
       "    <tr>\n",
       "      <th>3</th>\n",
       "      <td>Radial Velocity</td>\n",
       "      <td>1</td>\n",
       "      <td>326.030</td>\n",
       "      <td>19.40</td>\n",
       "      <td>110.62</td>\n",
       "      <td>2007</td>\n",
       "    </tr>\n",
       "    <tr>\n",
       "      <th>4</th>\n",
       "      <td>Radial Velocity</td>\n",
       "      <td>1</td>\n",
       "      <td>516.220</td>\n",
       "      <td>10.50</td>\n",
       "      <td>119.47</td>\n",
       "      <td>2009</td>\n",
       "    </tr>\n",
       "  </tbody>\n",
       "</table>\n",
       "</div>"
      ],
      "text/plain": [
       "            method  number  orbital_period   mass  distance  year\n",
       "0  Radial Velocity       1         269.300   7.10     77.40  2006\n",
       "1  Radial Velocity       1         874.774   2.21     56.95  2008\n",
       "2  Radial Velocity       1         763.000   2.60     19.84  2011\n",
       "3  Radial Velocity       1         326.030  19.40    110.62  2007\n",
       "4  Radial Velocity       1         516.220  10.50    119.47  2009"
      ]
     },
     "execution_count": 4,
     "metadata": {},
     "output_type": "execute_result"
    }
   ],
   "source": [
    "df = sns.load_dataset('planets')\n",
    "df.head()"
   ]
  },
  {
   "cell_type": "code",
   "execution_count": 5,
   "metadata": {},
   "outputs": [],
   "source": [
    "import dtale"
   ]
  },
  {
   "cell_type": "code",
   "execution_count": 6,
   "metadata": {},
   "outputs": [
    {
     "data": {
      "text/html": [
       "\n",
       "        <iframe\n",
       "            width=\"100%\"\n",
       "            height=\"475\"\n",
       "            src=\"http://DESKTOP-4GTDDK3:40000/dtale/iframe/1\"\n",
       "            frameborder=\"0\"\n",
       "            allowfullscreen\n",
       "        ></iframe>\n",
       "        "
      ],
      "text/plain": [
       "<IPython.lib.display.IFrame at 0x22a4e36d648>"
      ]
     },
     "metadata": {},
     "output_type": "display_data"
    },
    {
     "data": {
      "text/plain": []
     },
     "execution_count": 6,
     "metadata": {},
     "output_type": "execute_result"
    }
   ],
   "source": [
    "dtale.show(df)"
   ]
  },
  {
   "cell_type": "code",
   "execution_count": null,
   "metadata": {},
   "outputs": [],
   "source": []
  }
 ],
 "metadata": {
  "kernelspec": {
   "display_name": "Python 3",
   "language": "python",
   "name": "python3"
  },
  "language_info": {
   "codemirror_mode": {
    "name": "ipython",
    "version": 3
   },
   "file_extension": ".py",
   "mimetype": "text/x-python",
   "name": "python",
   "nbconvert_exporter": "python",
   "pygments_lexer": "ipython3",
   "version": "3.7.6"
  }
 },
 "nbformat": 4,
 "nbformat_minor": 4
}
